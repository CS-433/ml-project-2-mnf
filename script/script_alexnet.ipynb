{
 "cells": [
  {
   "cell_type": "code",
   "execution_count": 8,
   "id": "16800edd",
   "metadata": {},
   "outputs": [
    {
     "ename": "AttributeError",
     "evalue": "module 'tensorflow' has no attribute 'app'",
     "output_type": "error",
     "traceback": [
      "\u001b[1;31m---------------------------------------------------------------------------\u001b[0m",
      "\u001b[1;31mAttributeError\u001b[0m                            Traceback (most recent call last)",
      "Cell \u001b[1;32mIn[8], line 4\u001b[0m\n\u001b[0;32m      2\u001b[0m \u001b[38;5;28;01mimport\u001b[39;00m \u001b[38;5;21;01mtensorflow\u001b[39;00m \u001b[38;5;28;01mas\u001b[39;00m \u001b[38;5;21;01mtf\u001b[39;00m\n\u001b[0;32m      3\u001b[0m \u001b[38;5;28;01mimport\u001b[39;00m \u001b[38;5;21;01mnumpy\u001b[39;00m \u001b[38;5;28;01mas\u001b[39;00m \u001b[38;5;21;01mnp\u001b[39;00m \n\u001b[1;32m----> 4\u001b[0m \u001b[38;5;28;01mfrom\u001b[39;00m \u001b[38;5;21;01msrc\u001b[39;00m\u001b[38;5;21;01m.\u001b[39;00m\u001b[38;5;21;01mtf_aerial_images\u001b[39;00m \u001b[38;5;28;01mimport\u001b[39;00m \u001b[38;5;241m*\u001b[39m\n",
      "File \u001b[1;32m~\\Documents\\ml-project-2-mnf\\src\\tf_aerial_images.py:41\u001b[0m\n\u001b[0;32m     36\u001b[0m \u001b[38;5;66;03m# Set image patch size in pixels\u001b[39;00m\n\u001b[0;32m     37\u001b[0m \u001b[38;5;66;03m# IMG_PATCH_SIZE should be a multiple of 4\u001b[39;00m\n\u001b[0;32m     38\u001b[0m \u001b[38;5;66;03m# image size should be an integer multiple of this number!\u001b[39;00m\n\u001b[0;32m     39\u001b[0m IMG_PATCH_SIZE \u001b[38;5;241m=\u001b[39m \u001b[38;5;241m16\u001b[39m\n\u001b[1;32m---> 41\u001b[0m tf\u001b[38;5;241m.\u001b[39mapp\u001b[38;5;241m.\u001b[39mflags\u001b[38;5;241m.\u001b[39mDEFINE_string(\n\u001b[0;32m     42\u001b[0m     \u001b[38;5;124m\"\u001b[39m\u001b[38;5;124mtrain_dir\u001b[39m\u001b[38;5;124m\"\u001b[39m,\n\u001b[0;32m     43\u001b[0m     \u001b[38;5;124m\"\u001b[39m\u001b[38;5;124m/tmp/segment_aerial_images\u001b[39m\u001b[38;5;124m\"\u001b[39m,\n\u001b[0;32m     44\u001b[0m \u001b[38;5;250m    \u001b[39m\u001b[38;5;124;03m\"\"\"Directory where to write event logs \"\"\"\u001b[39;00m \u001b[38;5;124m\"\"\"\u001b[39m\u001b[38;5;124mand checkpoint.\u001b[39m\u001b[38;5;124m\"\"\"\u001b[39m,\n\u001b[0;32m     45\u001b[0m )\n\u001b[0;32m     46\u001b[0m FLAGS \u001b[38;5;241m=\u001b[39m tf\u001b[38;5;241m.\u001b[39mapp\u001b[38;5;241m.\u001b[39mflags\u001b[38;5;241m.\u001b[39mFLAGS\n\u001b[0;32m     49\u001b[0m \u001b[38;5;66;03m# Extract patches from a given image\u001b[39;00m\n",
      "\u001b[1;31mAttributeError\u001b[0m: module 'tensorflow' has no attribute 'app'"
     ]
    }
   ],
   "source": [
    "import torch \n",
    "import tensorflow as tf\n",
    "import numpy as np \n",
    "from src.tf_aerial_images import *"
   ]
  },
  {
   "cell_type": "markdown",
   "id": "2ed90dc0",
   "metadata": {},
   "source": [
    "<img src=\"https://www.researchgate.net/publication/320052364/figure/fig1/AS:543136445198336@1506505227088/Scheme-of-the-AlexNet-network-used.png\">\n",
    "\n",
    "[image from Llamas et al., (2017) availble by Creative Commons Attribution 4.0 International](https://www.researchgate.net/publication/320052364_Classification_of_Architectural_Heritage_Images_Using_Deep_Learning_Techniques)\n"
   ]
  },
  {
   "cell_type": "code",
   "execution_count": null,
   "id": "08031954",
   "metadata": {},
   "outputs": [],
   "source": []
  }
 ],
 "metadata": {
  "kernelspec": {
   "display_name": "Python 3 (ipykernel)",
   "language": "python",
   "name": "python3"
  },
  "language_info": {
   "codemirror_mode": {
    "name": "ipython",
    "version": 3
   },
   "file_extension": ".py",
   "mimetype": "text/x-python",
   "name": "python",
   "nbconvert_exporter": "python",
   "pygments_lexer": "ipython3",
   "version": "3.11.5"
  }
 },
 "nbformat": 4,
 "nbformat_minor": 5
}
